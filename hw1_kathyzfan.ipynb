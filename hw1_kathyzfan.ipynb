{
 "cells": [
  {
   "cell_type": "markdown",
   "metadata": {},
   "source": [
    "<h1>Imports and setup</h1>"
   ]
  },
  {
   "cell_type": "code",
   "execution_count": 1,
   "metadata": {},
   "outputs": [],
   "source": [
    "from collections import defaultdict\n",
    "import csv\n",
    "import itertools\n",
    "import numpy as np\n",
    "import os\n",
    "import pandas as pd\n",
    "import random\n",
    "from scipy.stats import spearmanr\n",
    "\n",
    "import vsm\n",
    "import utils"
   ]
  },
  {
   "cell_type": "code",
   "execution_count": 2,
   "metadata": {},
   "outputs": [],
   "source": [
    "utils.fix_random_seeds()"
   ]
  },
  {
   "cell_type": "code",
   "execution_count": 3,
   "metadata": {},
   "outputs": [],
   "source": [
    "VSM_HOME = os.path.join('data', 'vsmdata')\n",
    "\n",
    "DATA_HOME = os.path.join('data', 'wordrelatedness')"
   ]
  },
  {
   "cell_type": "code",
   "execution_count": 4,
   "metadata": {},
   "outputs": [],
   "source": [
    "dev_df = pd.read_csv(\n",
    "    os.path.join(DATA_HOME, \"cs224u-wordrelatedness-dev.csv\"))\n",
    "\n",
    "count_df = pd.read_csv(os.path.join(VSM_HOME, 'giga_window20-flat.csv.gz'), index_col=0)"
   ]
  },
  {
   "cell_type": "markdown",
   "metadata": {},
   "source": [
    "<h1>Baseline: PPMI</h1>"
   ]
  },
  {
   "cell_type": "code",
   "execution_count": 52,
   "metadata": {},
   "outputs": [],
   "source": [
    "def apply_ppmi(df):\n",
    "    return vsm.pmi(df)\n",
    "\n",
    "def evaluate(df):\n",
    "    pred_df, rho = vsm.word_relatedness_evaluation(dev_df, df)\n",
    "    print(rho)\n",
    "    return rho\n",
    "\n",
    "def ppmi_model():\n",
    "    pipeline = apply_ppmi(count_df)\n",
    "    return pipeline\n",
    "\n",
    "# ppmi = ppmi_model()\n",
    "# evaluate(ppmi) # 0.35078317826072747"
   ]
  },
  {
   "cell_type": "markdown",
   "metadata": {},
   "source": [
    "<h1>PPMI - LSA</h1>\n",
    "<h2> Iterate through a few values of k for LSA </h2>"
   ]
  },
  {
   "cell_type": "code",
   "execution_count": 42,
   "metadata": {},
   "outputs": [
    {
     "name": "stdout",
     "output_type": "stream",
     "text": [
      "55\n",
      "0.37361430680403135\n",
      "75\n",
      "0.3780506404505552\n"
     ]
    }
   ],
   "source": [
    "def apply_lsa(df, k):\n",
    "    return vsm.lsa(df, k=k)\n",
    "\n",
    "def ppmi_lsa_model(k):\n",
    "    print(k)\n",
    "    #ppmi = ppmi_model\n",
    "    ppmi = apply_ppmi(count_df)\n",
    "    pipeline = apply_lsa(ppmi, k)\n",
    "    return pipeline\n",
    "\n",
    "k_values = [55, 75]\n",
    "for k in k_values:\n",
    "    evaluate(ppmi_lsa_model(k=k))"
   ]
  },
  {
   "cell_type": "markdown",
   "metadata": {},
   "source": [
    "Record of values of k tried and resulting rho:\n",
    "\n",
    "| k | rho | \n",
    "| --- | --- |\n",
    "|5  | 0.2690793493940406 |\n",
    "|10 | 0.3188110541644582 |\n",
    "|15 | 0.33787063311107074 |\n",
    "|20 | 0.3494470390248065 |\n",
    "|23 | 0.35493003920064664 |\n",
    "|25 | 0.35801029120400735 |\n",
    "|27 | 0.3605741064664968 |\n",
    "|29 | 0.3634646054248036 |\n",
    "|30 | 0.3641395062507528 |\n",
    "|35 | 0.36595271827140213 |\n",
    "|55 | 0.37361430680403135 |\n",
    "|75 | 0.3780506404505552 |\n",
    "|100 | 0.3804359519023298 |\n",
    "|200 | 0.37933931313996916 |\n",
    "|300 | 0.3704844541599484 |\n",
    "\n",
    "Need k>=23 in order to have an improvement over PPMI baseline.\n",
    "\n",
    "Plotted in below cell."
   ]
  },
  {
   "cell_type": "code",
   "execution_count": 43,
   "metadata": {},
   "outputs": [
    {
     "data": {
      "image/png": "[encoded data removed]",
      "text/plain": [
       "<Figure size 432x288 with 1 Axes>"
      ]
     },
     "metadata": {
      "needs_background": "light"
     },
     "output_type": "display_data"
    }
   ],
   "source": [
    "import matplotlib\n",
    "import matplotlib.pyplot as plt\n",
    "\n",
    "ks = [5, 10, 15, 20, 23, 25, 27, 29, 30, 35, 55, 75, 100, 200, 300]\n",
    "rhos = [0.269, 0.319, 0.338, 0.349, 0.355, 0.358, 0.361, 0.363, 0.364, 0.366, 0.374, 0.378, 0.380, 0.379, 0.370]\n",
    "\n",
    "fig, ax = plt.subplots()\n",
    "ax.set(xlabel='k', ylabel='rho', title='rho vs k')\n",
    "ax.plot(ks, rhos)\n",
    "ax.hlines(0.351, 0, 300, colors='red', linestyles='dotted', label='ppmi')\n",
    "plt.show()"
   ]
  },
  {
   "cell_type": "markdown",
   "metadata": {},
   "source": [
    "Note: the above assumes we can optimize the k in LSA separately from the effects of the rest of the pipeline. Another option would be to tune the value of k using the entire pipeline.\n",
    "\n",
    "Based on the above, choose k=100 for now."
   ]
  },
  {
   "cell_type": "markdown",
   "metadata": {},
   "source": [
    "<h1>PPMI - LSA - Retrofit</h1>"
   ]
  },
  {
   "cell_type": "code",
   "execution_count": 44,
   "metadata": {},
   "outputs": [
    {
     "name": "stdout",
     "output_type": "stream",
     "text": [
      "100\n",
      "(6000, 100)\n"
     ]
    }
   ],
   "source": [
    "# initial attempt\n",
    "\n",
    "# get ppmi - lsa model\n",
    "ppmi_lsa = ppmi_lsa_model(k=100)\n",
    "print(ppmi_lsa.shape)"
   ]
  },
  {
   "cell_type": "code",
   "execution_count": 19,
   "metadata": {},
   "outputs": [],
   "source": [
    "from nltk.corpus import wordnet as wn\n",
    "import retrofitting\n",
    "from retrofitting import Retrofitter"
   ]
  },
  {
   "cell_type": "code",
   "execution_count": 20,
   "metadata": {},
   "outputs": [],
   "source": [
    "# retrofit helper functions copied from notebook\n",
    "def get_wordnet_edges():\n",
    "    edges = defaultdict(set)\n",
    "    for ss in wn.all_synsets():\n",
    "        lem_names = {lem.name() for lem in ss.lemmas()}\n",
    "        for lem in lem_names:\n",
    "            edges[lem] |= lem_names\n",
    "    return edges\n",
    "\n",
    "def convert_edges_to_indices(edges, Q):\n",
    "    lookup = dict(zip(Q.index, range(Q.shape[0])))\n",
    "    index_edges = defaultdict(set)\n",
    "    for start, finish_nodes in edges.items():\n",
    "        s = lookup.get(start)\n",
    "        if s:\n",
    "            f = {lookup[n] for n in finish_nodes if n in lookup}\n",
    "            if f:\n",
    "                index_edges[s] = f\n",
    "    return index_edges"
   ]
  },
  {
   "cell_type": "code",
   "execution_count": 45,
   "metadata": {},
   "outputs": [
    {
     "name": "stderr",
     "output_type": "stream",
     "text": [
      "Converged at iteration 10; change was 0.0063 "
     ]
    },
    {
     "name": "stdout",
     "output_type": "stream",
     "text": [
      "0.3526855467031869\n"
     ]
    }
   ],
   "source": [
    "wn_edges = get_wordnet_edges()\n",
    "wn_index_edges = convert_edges_to_indices(wn_edges, ppmi_lsa)\n",
    "wn_retro = Retrofitter(verbose=True)\n",
    "retro_df = wn_retro.fit(ppmi_lsa, wn_index_edges)\n",
    "evaluate(retro_df) # k=29: 0.34290076857196167"
   ]
  },
  {
   "cell_type": "code",
   "execution_count": 53,
   "metadata": {},
   "outputs": [
    {
     "name": "stdout",
     "output_type": "stream",
     "text": [
      "5\n"
     ]
    },
    {
     "name": "stderr",
     "output_type": "stream",
     "text": [
      "Converged at iteration 5; change was 0.0031 "
     ]
    },
    {
     "name": "stdout",
     "output_type": "stream",
     "text": [
      "0.38051751210397267\n",
      "10\n"
     ]
    },
    {
     "name": "stderr",
     "output_type": "stream",
     "text": [
      "Converged at iteration 4; change was 0.0026 "
     ]
    },
    {
     "name": "stdout",
     "output_type": "stream",
     "text": [
      "0.3812425385752641\n",
      "15\n"
     ]
    },
    {
     "name": "stderr",
     "output_type": "stream",
     "text": [
      "Converged at iteration 4; change was 0.0006 "
     ]
    },
    {
     "name": "stdout",
     "output_type": "stream",
     "text": [
      "0.3811872428068117\n",
      "20\n"
     ]
    },
    {
     "name": "stderr",
     "output_type": "stream",
     "text": [
      "Converged at iteration 3; change was 0.0070 "
     ]
    },
    {
     "name": "stdout",
     "output_type": "stream",
     "text": [
      "0.38107864472426806\n"
     ]
    }
   ],
   "source": [
    "# try other values of alpha\n",
    "alphas = [5, 10, 15, 20]\n",
    "results = []\n",
    "for alpha in alphas:\n",
    "    print(alpha)\n",
    "    wn_retro = Retrofitter(alpha=lambda x: alpha, verbose=True)\n",
    "    retro_df = wn_retro.fit(ppmi_lsa, wn_index_edges)\n",
    "    results.append(evaluate(retro_df))\n",
    "\n",
    "# very large alpha starts giving results better than baseline\n",
    "# so we want vsm to dominate, but just incorporate a little of wordnet?\n",
    "# as alpha increase, # of iterations until converge decreases"
   ]
  },
  {
   "cell_type": "code",
   "execution_count": 54,
   "metadata": {},
   "outputs": [
    {
     "name": "stdout",
     "output_type": "stream",
     "text": [
      "[0.38051751210397267, 0.3812425385752641, 0.3811872428068117, 0.38107864472426806]\n"
     ]
    }
   ],
   "source": [
    "print(results)"
   ]
  },
  {
   "cell_type": "code",
   "execution_count": 55,
   "metadata": {},
   "outputs": [
    {
     "data": {
      "image/png": "[encoded data removed]",
      "text/plain": [
       "<Figure size 432x288 with 1 Axes>"
      ]
     },
     "metadata": {
      "needs_background": "light"
     },
     "output_type": "display_data"
    }
   ],
   "source": [
    "fig, ax = plt.subplots()\n",
    "ax.set(xlabel='alpha', ylabel='rho', title='rho vs alpha')\n",
    "ax.plot(alphas, results)\n",
    "ax.hlines(0.38, 5, 20, colors='red', linestyles='dotted', label='ppmi-lsa')\n",
    "plt.show()"
   ]
  },
  {
   "cell_type": "code",
   "execution_count": 56,
   "metadata": {},
   "outputs": [],
   "source": [
    "# FAILED ATTEMPT\n",
    "# from paper: retrofit was better with longer vector length\n",
    "# so maybe only do ppmi -> retrofit\n",
    "# ppmi = ppmi_model()\n",
    "# print(ppmi.shape)\n",
    "\n",
    "# wn_edges = get_wordnet_edges()\n",
    "# wn_index_edges = convert_edges_to_indices(wn_edges, ppmi)\n",
    "# wn_retro = Retrofitter(verbose=True)\n",
    "# retro_df = wn_retro.fit(ppmi, wn_index_edges)\n",
    "# evaluate(retro_df) # 0.2908358495266217\n",
    "\n",
    "# Result: it was much worse than a smaller value of k."
   ]
  },
  {
   "cell_type": "code",
   "execution_count": null,
   "metadata": {},
   "outputs": [],
   "source": []
  }
 ],
 "metadata": {
  "kernelspec": {
   "display_name": "Python 3",
   "language": "python",
   "name": "python3"
  },
  "language_info": {
   "codemirror_mode": {
    "name": "ipython",
    "version": 3
   },
   "file_extension": ".py",
   "mimetype": "text/x-python",
   "name": "python",
   "nbconvert_exporter": "python",
   "pygments_lexer": "ipython3",
   "version": "3.8.5"
  }
 },
 "nbformat": 4,
 "nbformat_minor": 4
}
