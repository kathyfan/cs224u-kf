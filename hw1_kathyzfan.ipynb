{
 "cells": [
  {
   "cell_type": "markdown",
   "metadata": {},
   "source": [
    "<h1>Imports and setup</h1>"
   ]
  },
  {
   "cell_type": "code",
   "execution_count": null,
   "metadata": {},
   "outputs": [],
   "source": [
    "from collections import defaultdict\n",
    "import csv\n",
    "import itertools\n",
    "import numpy as np\n",
    "import os\n",
    "import pandas as pd\n",
    "import random\n",
    "from scipy.stats import spearmanr\n",
    "\n",
    "import vsm\n",
    "import utils"
   ]
  },
  {
   "cell_type": "code",
   "execution_count": 2,
   "metadata": {},
   "outputs": [],
   "source": [
    "utils.fix_random_seeds()"
   ]
  },
  {
   "cell_type": "code",
   "execution_count": 3,
   "metadata": {},
   "outputs": [],
   "source": [
    "VSM_HOME = os.path.join('data', 'vsmdata')\n",
    "DATA_HOME = os.path.join('data', 'wordrelatedness')"
   ]
  },
  {
   "cell_type": "markdown",
   "metadata": {},
   "source": [
    "<h1>High level overview</h1>\n",
    "\n",
    "This notebook tests two methods: a PPMI -> LSA -> Retrofitting pipeline, and the GloVe method. Our default was to start with the giga20 vsm provided, since this was used in the rest of assignment 1. \n",
    "\n",
    "The first pipeline is motivated by a few observations/tips from lecture:\n",
    "* PPMI does very well at re-balancing the distribution of the data and is generally a simple but powerful technique, thus a good starting point.\n",
    "* Dimensionality reduction can help capture higher-order features, and LSA remains a standard baseline; furthermore, the PPMI -> LSA order of application is common, due to the underlying mathematical assumptions of LSA.\n",
    "* Retrofitting could help by essentially bringing in useful semantic info from another data source, eg. WordNet.\n",
    "We thought it could be valid/useful to apply Retrofitting to the vsm that has already gone through PPMI and LSA (as opposed to applying Retrofitting to the raw count matrix) since Retrofitting does not make assumptions about the existing vsm $\\hat{Q}$. Also, this is similar to how `vsm_03_retrofitting.ipynb` applies retrofitting to the transformed GloVe embedding space.\n",
    "\n",
    "For both methods, we assume the default cosine distance function, since from `vsm_01_distributional.ipynb` this seems to consistently yield better results than the other distance functions."
   ]
  },
  {
   "cell_type": "code",
   "execution_count": 4,
   "metadata": {},
   "outputs": [],
   "source": [
    "dev_df = pd.read_csv(os.path.join(DATA_HOME, \"cs224u-wordrelatedness-dev.csv\"))\n",
    "count_df = pd.read_csv(os.path.join(VSM_HOME, 'giga_window20-flat.csv.gz'), index_col=0)"
   ]
  },
  {
   "cell_type": "markdown",
   "metadata": {},
   "source": [
    "When we noticed there was not a huge amount of improvement with the two methods above, we also did some trials where we used the yelp20 vsm, in an attempt to see if one was a better starting point than the other. A third idea was to combine the data from the underlying yelp and gigaword datasets. We combined these datasets by adding the giga20 and yelp20 raw count matrices together to form a `combined_df`. The hypothesis was that by leveraging more data in the underlying vsm, we could get better results. An alternative hypothesis is that the yelp data and gigaword data could look very different, hence leading to a weaker representation and worse results."
   ]
  },
  {
   "cell_type": "code",
   "execution_count": 57,
   "metadata": {},
   "outputs": [
    {
     "name": "stdout",
     "output_type": "stream",
     "text": [
      "(6000, 6000)\n"
     ]
    }
   ],
   "source": [
    "yelp_df = pd.read_csv(os.path.join(VSM_HOME, 'yelp_window20-flat.csv.gz'), index_col=0)\n",
    "combined_df = count_df + yelp_df\n",
    "print(combined_df.shape) # sanity check this matrix addition"
   ]
  },
  {
   "cell_type": "markdown",
   "metadata": {},
   "source": [
    "<h1>Baseline: PPMI</h1>\n",
    "We start constructing the PPMI -> LSA -> Retrofitting pipeline by profiling the first stage of the pipeline, PPMI. This section contains largely the same code as provided in assignment 1."
   ]
  },
  {
   "cell_type": "code",
   "execution_count": 52,
   "metadata": {},
   "outputs": [],
   "source": [
    "def apply_ppmi(df):\n",
    "    return vsm.pmi(df)\n",
    "\n",
    "def evaluate(df):\n",
    "    pred_df, rho = vsm.word_relatedness_evaluation(dev_df, df)\n",
    "    print(rho)\n",
    "    return rho\n",
    "\n",
    "def ppmi_model():\n",
    "    pipeline = apply_ppmi(count_df)\n",
    "    return pipeline"
   ]
  },
  {
   "cell_type": "code",
   "execution_count": null,
   "metadata": {},
   "outputs": [],
   "source": [
    "ppmi = ppmi_model()\n",
    "evaluate(ppmi) # 0.35078317826072747\n",
    "evaluate(apply_ppmi(combined_df)) # 0.34506314450395015\n",
    "evaluate(apply_ppmi(yelp_df)) # 0.2681669369260301\n",
    "\n",
    "# vsm.tsne_viz(ppmi, output_filename=None, figsize=(40, 50), random_state=42)"
   ]
  },
  {
   "cell_type": "markdown",
   "metadata": {},
   "source": [
    "PPMI on giga20 yielded a score of 0.351. It turns out that the yelp20 vsm led to a much lower score, and thus, the `combined_df` also had a lower score than giga20 alone. In the `vsm_01_distributional.ipynb` notebook, we used t-SNE to visualize the effect of PPMI on yelp20. Here, we attempted to also visualize the effect of PPMI on giga20, in order to compare and see if there are any differences that could explain why giga20 gave a much better score. However, we did not find any intuitive clues from the visualization."
   ]
  },
  {
   "cell_type": "markdown",
   "metadata": {},
   "source": [
    "<h1>PPMI - LSA</h1>\n",
    "Next we add the LSA step to the pipeline. In the assignment, using a value of k=10 actually decreased the score compared to PPMI alone. So, here we evaluate the score of various values of k, in order to tune this hyperparameter."
   ]
  },
  {
   "cell_type": "code",
   "execution_count": null,
   "metadata": {},
   "outputs": [],
   "source": [
    "def apply_lsa(df, k):\n",
    "    return vsm.lsa(df, k=k)\n",
    "\n",
    "def ppmi_lsa_model(k):\n",
    "    print(k)\n",
    "    #ppmi = ppmi_model\n",
    "    ppmi = apply_ppmi(count_df)\n",
    "    pipeline = apply_lsa(ppmi, k)\n",
    "    return pipeline\n",
    "\n",
    "k_values = [55, 75] # See table below for complete set of k's we tried. \n",
    "for k in k_values:\n",
    "    evaluate(ppmi_lsa_model(k=k))"
   ]
  },
  {
   "cell_type": "markdown",
   "metadata": {},
   "source": [
    "Record of values of k tried and resulting rho:\n",
    "\n",
    "| k | rho | \n",
    "| --- | --- |\n",
    "|5  | 0.2690793493940406 |\n",
    "|10 | 0.3188110541644582 |\n",
    "|15 | 0.33787063311107074 |\n",
    "|20 | 0.3494470390248065 |\n",
    "|23 | 0.35493003920064664 |\n",
    "|25 | 0.35801029120400735 |\n",
    "|27 | 0.3605741064664968 |\n",
    "|29 | 0.3634646054248036 |\n",
    "|30 | 0.3641395062507528 |\n",
    "|35 | 0.36595271827140213 |\n",
    "|55 | 0.37361430680403135 |\n",
    "|75 | 0.3780506404505552 |\n",
    "|100 | 0.3804359519023298 |\n",
    "|200 | 0.37933931313996916 |\n",
    "|300 | 0.3704844541599484 |\n",
    "\n",
    "Need k>=23 in order to have an improvement over PPMI baseline.\n",
    "\n",
    "Plotted in below cell."
   ]
  },
  {
   "cell_type": "code",
   "execution_count": 43,
   "metadata": {},
   "outputs": [
    {
     "data": {
      "image/png": "[encoded data removed]",
      "text/plain": [
       "<Figure size 432x288 with 1 Axes>"
      ]
     },
     "metadata": {
      "needs_background": "light"
     },
     "output_type": "display_data"
    }
   ],
   "source": [
    "import matplotlib\n",
    "import matplotlib.pyplot as plt\n",
    "\n",
    "ks = [5, 10, 15, 20, 23, 25, 27, 29, 30, 35, 55, 75, 100, 200, 300]\n",
    "rhos = [0.269, 0.319, 0.338, 0.349, 0.355, 0.358, 0.361, 0.363, 0.364, 0.366, 0.374, 0.378, 0.380, 0.379, 0.370]\n",
    "\n",
    "fig, ax = plt.subplots()\n",
    "ax.set(xlabel='k', ylabel='rho', title='rho vs k')\n",
    "ax.plot(ks, rhos)\n",
    "ax.hlines(0.351, 0, 300, colors='red', linestyles='dotted', label='ppmi')\n",
    "plt.show()"
   ]
  },
  {
   "cell_type": "markdown",
   "metadata": {},
   "source": [
    "Based on the above, choose k=100."
   ]
  },
  {
   "cell_type": "code",
   "execution_count": null,
   "metadata": {},
   "outputs": [],
   "source": [
    "# try for some combined dataset and yelp dataset\n",
    "# for k in [25, 50, 100]:\n",
    "#     evaluate(apply_lsa(apply_ppmi(combined_df), k))\n",
    "#     evaluate(apply_lsa(apply_ppmi(yelp_df), k))\n",
    "\n",
    "# results:\n",
    "# 0.32397790824401773\n",
    "# 0.273638229822923\n",
    "# 0.3440280665365778\n",
    "# 0.29190854734437527\n",
    "# 0.3543426961440956\n",
    "# (aborted yelp k=100)"
   ]
  },
  {
   "cell_type": "markdown",
   "metadata": {},
   "source": [
    "We also tried the yelp20 and combined_df at this stage.\n",
    "\n",
    "| data | k | score | \n",
    "| --- | --- | --- |\n",
    "| combined | 25 | 0.32397790824401773 |\n",
    "| yelp20 | 25 | 0.273638229822923 |\n",
    "| combined | 50 | 0.3440280665365778 |\n",
    "| yelp20 | 50 | 0.29190854734437527 |\n",
    "| combined | 100 | 0.3543426961440956 |\n",
    "\n",
    "The effect of k on the score seems to be consistent with when we used the giga20 data. Similar to the results from PPMI alone, the yelp20 dataset continues to perform significantly worse and the combined_df is also slightly worse than the giga20 vsm."
   ]
  },
  {
   "cell_type": "markdown",
   "metadata": {},
   "source": [
    "<h1>PPMI - LSA - Retrofit</h1>\n",
    "\n",
    "After picking a value of k for LSA, we move onto adding a Retrofitting step. In short, we got very little improvements from Retrofitting, so at this point, we also started examining vsm.neighbors() to try to look into the effect of our transformations and understand why there is hardly an improvement in the score."
   ]
  },
  {
   "cell_type": "code",
   "execution_count": 19,
   "metadata": {},
   "outputs": [],
   "source": [
    "from nltk.corpus import wordnet as wn\n",
    "import retrofitting\n",
    "from retrofitting import Retrofitter"
   ]
  },
  {
   "cell_type": "markdown",
   "metadata": {},
   "source": [
    "First, a sanity check to see how vsm.neighbors() is like on the PPMI-LSA pipeline so far. \n",
    "\n",
    "As a reference, here were the results from `vsm_01_distributional.ipynb`, for PPMI on giga20:\n",
    "superb         0.000000\n",
    "excellent      0.367458\n",
    "perfect        0.374185\n",
    "terrific       0.381038\n",
    "beautifully    0.388652\n",
    "\n",
    "In comparison, the neighbors of 'superb' are still the same but ~3x shorter distance from 'superb.' This suggests LSA helps our vsm captures more semantic similarity. However, this ~3x reduction in distance only translated to ~0.03 improvement in $\\rho$. One realization is that in order to succeed at getting a good rho, we don't necessarily want our words to be similar by some absolute measure; instead, we need it to \"match\" the scoring scheme of the relatedness dataset. This might explain why the reduction in distance of similar vectors does not translate to the same improvement in the score.\n",
    "\n",
    "<h3>An idea</h3>\n",
    "This led to the idea: can we make better use of the dev_df such that it's incorporated into the transformations we perform on the vsm, and not just used to evaluate/choose hyperparameters? For example, one idea is to write something like get_dev_edges(), which uses the info in `dev_df` to generate an edge set for retrofitting. We could set some threshold, ex. assume that if annotated_score(word1, word2) > 0.5, then they are similar, and create an edge between those words. However we did not have time to implement and fully explore this approach. In addition, we also had concerns that this would lead to overfitting the dev set."
   ]
  },
  {
   "cell_type": "code",
   "execution_count": 65,
   "metadata": {},
   "outputs": [
    {
     "data": {
      "text/plain": [
       "superb         0.000000\n",
       "excellent      0.118194\n",
       "terrific       0.138579\n",
       "perfect        0.142211\n",
       "beautifully    0.146424\n",
       "dtype: float64"
      ]
     },
     "execution_count": 65,
     "metadata": {},
     "output_type": "execute_result"
    }
   ],
   "source": [
    "ppmi_lsa = ppmi_lsa_model(k=100)\n",
    "print(ppmi_lsa.shape) # (6000, 100)\n",
    "vsm.neighbors('superb', ppmi_lsa).head()"
   ]
  },
  {
   "cell_type": "markdown",
   "metadata": {},
   "source": [
    "Now for the actual retrofitting."
   ]
  },
  {
   "cell_type": "code",
   "execution_count": 20,
   "metadata": {},
   "outputs": [],
   "source": [
    "# retrofit helper functions copied from notebook\n",
    "def get_wordnet_edges():\n",
    "    edges = defaultdict(set)\n",
    "    for ss in wn.all_synsets():\n",
    "        lem_names = {lem.name() for lem in ss.lemmas()}\n",
    "        for lem in lem_names:\n",
    "            edges[lem] |= lem_names\n",
    "    return edges\n",
    "\n",
    "def convert_edges_to_indices(edges, Q):\n",
    "    lookup = dict(zip(Q.index, range(Q.shape[0])))\n",
    "    index_edges = defaultdict(set)\n",
    "    for start, finish_nodes in edges.items():\n",
    "        s = lookup.get(start)\n",
    "        if s:\n",
    "            f = {lookup[n] for n in finish_nodes if n in lookup}\n",
    "            if f:\n",
    "                index_edges[s] = f\n",
    "    return index_edges"
   ]
  },
  {
   "cell_type": "markdown",
   "metadata": {},
   "source": [
    "We first tried using the default hyperparameters, then tried other values of alpha in the range of [0.25, 20]. (We didn't try different beta values because it's the relative weight of alpha vs beta that matters.) Generally, when $\\alpha \\leq 1$, smaller alpha means worse score. For larger values of alpha, the score improves then decreases again. At the end, the best value we found was alpha=10, which yielded a score of 0.381. Note though that this is only a tiny (almost negligible) improvement over what we already had with PPMI-LSA. Such a large value of alpha essentially means that we are heavily biased towards remaining true to the input vsm and not allowing the WordNet edges to play as large of a role, so ultimately, we concluded that retrofitting in the context of our pipeline was not very useful of a step."
   ]
  },
  {
   "cell_type": "code",
   "execution_count": 45,
   "metadata": {},
   "outputs": [
    {
     "name": "stderr",
     "output_type": "stream",
     "text": [
      "Converged at iteration 10; change was 0.0063 "
     ]
    },
    {
     "name": "stdout",
     "output_type": "stream",
     "text": [
      "0.3526855467031869\n"
     ]
    }
   ],
   "source": [
    "wn_edges = get_wordnet_edges()\n",
    "wn_index_edges = convert_edges_to_indices(wn_edges, ppmi_lsa)\n",
    "wn_retro = Retrofitter(verbose=True)\n",
    "retro_df = wn_retro.fit(ppmi_lsa, wn_index_edges)\n",
    "evaluate(retro_df) # k=29: 0.34290076857196167"
   ]
  },
  {
   "cell_type": "code",
   "execution_count": 53,
   "metadata": {},
   "outputs": [
    {
     "name": "stdout",
     "output_type": "stream",
     "text": [
      "5\n"
     ]
    },
    {
     "name": "stderr",
     "output_type": "stream",
     "text": [
      "Converged at iteration 5; change was 0.0031 "
     ]
    },
    {
     "name": "stdout",
     "output_type": "stream",
     "text": [
      "0.38051751210397267\n",
      "10\n"
     ]
    },
    {
     "name": "stderr",
     "output_type": "stream",
     "text": [
      "Converged at iteration 4; change was 0.0026 "
     ]
    },
    {
     "name": "stdout",
     "output_type": "stream",
     "text": [
      "0.3812425385752641\n",
      "15\n"
     ]
    },
    {
     "name": "stderr",
     "output_type": "stream",
     "text": [
      "Converged at iteration 4; change was 0.0006 "
     ]
    },
    {
     "name": "stdout",
     "output_type": "stream",
     "text": [
      "0.3811872428068117\n",
      "20\n"
     ]
    },
    {
     "name": "stderr",
     "output_type": "stream",
     "text": [
      "Converged at iteration 3; change was 0.0070 "
     ]
    },
    {
     "name": "stdout",
     "output_type": "stream",
     "text": [
      "0.38107864472426806\n"
     ]
    }
   ],
   "source": [
    "# try other values of alpha\n",
    "alphas = [5, 10, 15, 20]\n",
    "results = []\n",
    "for alpha in alphas:\n",
    "    print(alpha)\n",
    "    wn_retro = Retrofitter(alpha=lambda x: alpha, verbose=True)\n",
    "    retro_df = wn_retro.fit(ppmi_lsa, wn_index_edges)\n",
    "    results.append(evaluate(retro_df))"
   ]
  },
  {
   "cell_type": "code",
   "execution_count": 55,
   "metadata": {},
   "outputs": [
    {
     "data": {
      "image/png": "[encoded data removed]",
      "text/plain": [
       "<Figure size 432x288 with 1 Axes>"
      ]
     },
     "metadata": {
      "needs_background": "light"
     },
     "output_type": "display_data"
    }
   ],
   "source": [
    "fig, ax = plt.subplots()\n",
    "ax.set(xlabel='alpha', ylabel='rho', title='rho vs alpha')\n",
    "ax.plot(alphas, results)\n",
    "ax.hlines(0.38, 5, 20, colors='red', linestyles='dotted', label='ppmi-lsa')\n",
    "plt.show()"
   ]
  },
  {
   "cell_type": "markdown",
   "metadata": {},
   "source": [
    "From Faruqui et al.'s paper, retrofitting should've given at least ~0.03 points improvement in the score. We tried more experiments to attempt to reproduce this order of magnitude of improvement. We noticed that figure 2 shows how larger vector length gave better rho. Previously we reduced our dimension to k=100 since this was optimal at that point of the pipeline. However, perhaps a longer vector will lead to improvements (via retrofitting) that outweigh its suboptimality (via LSA). Therefore, we tried k=200 and k=300 with the best alpha value so far, alpha=10. We even tried apply PPMI -> Retrofitting directly, essentially preserving a length 6000 vector."
   ]
  },
  {
   "cell_type": "code",
   "execution_count": null,
   "metadata": {},
   "outputs": [],
   "source": [
    "ppmi_lsa_200 = ppmi_lsa_model(k=200)\n",
    "wn_index_edges_200 = convert_edges_to_indices(wn_edges, ppmi_lsa_200)\n",
    "wn_retro_200 = Retrofitter(alpha=lambda x: 10, verbose=True)\n",
    "retro_df_200 = wn_retro_200.fit(ppmi_lsa_200, wn_index_edges_200)\n",
    "evaluate(retro_df_200)\n",
    "\n",
    "# directly pmi -> retrofit\n",
    "# ppmi = ppmi_model()\n",
    "# print(ppmi.shape)\n",
    "# wn_edges = get_wordnet_edges()\n",
    "# wn_index_edges = convert_edges_to_indices(wn_edges, ppmi)\n",
    "# wn_retro = Retrofitter(verbose=True)\n",
    "# retro_df = wn_retro.fit(ppmi, wn_index_edges)\n",
    "# evaluate(retro_df) # 0.2908358495266217"
   ]
  },
  {
   "cell_type": "markdown",
   "metadata": {},
   "source": [
    "Summary:\n",
    "\n",
    "| k | alpha | score |\n",
    "| -- | -- | -- |\n",
    "| 100 | 1 | 0.3526855467031869 |\n",
    "| 100 | 5 | 0.38051751210397267 |\n",
    "| 100 | 10 | 0.38051751210397267 |\n",
    "| 100 | 15 | 0.3811872428068117 |\n",
    "| 100 | 20 | 0.38107864472426806 |\n",
    "| 200 | 10 | 0.3798859630483975 |\n",
    "| 300 | 10 | 0.37010577937481365 |\n",
    "| n/a | 1 | 0.2908358495266217 |\n",
    "\n",
    "(k=n/a is applying PPMI->Retrofitting directly.) Comparing k=100,200,300 with alpha=10, we see that longer vectors actually produced worse scores on our relatedness dataset. Similarly, comparing k=100 and k=n/a (essentially k=6000) with alpha=1, the score was considerably worse with the longer vector."
   ]
  },
  {
   "cell_type": "markdown",
   "metadata": {},
   "source": [
    "<h1>GloVe</h1>\n",
    "\n",
    "We try a second method altogether, applying GloVe to a raw count matrix. The summary is that all our GloVe models performed abysmally, hovering around rho=0 and even slightly negative. Changing the max_iters did not seem to help. \n",
    "\n",
    "Chris mentioned in a forum answer that GloVe is sensitive to the vocab size/dimensions of the matrix, so we tried larger values of embed_dim. Generally, it seemed like larger embed_dim resulted in a higher score, but the score was still ~0. We also noticed that only the model with embed_dim=6000 produced reasonable vsm.neighbors(), although these were still not as good as the neighbors previously seen for PPMI/LSA. For the other models, the nearest neighbors were often unrelated words.\n",
    "\n",
    "We also noticed that the error at the end of the GloVe process was much ~2-4x larger than that of the error in `vsm_02_dimreduce.ipynb`. The difference was that the other notebook used the yelp dataset. We evaluated the GloVe model on the yelp dataset. While the rho value was better than the value for the corresponding gigaword model, the result was still ~0."
   ]
  },
  {
   "cell_type": "code",
   "execution_count": 66,
   "metadata": {},
   "outputs": [],
   "source": [
    "from torch_glove import TorchGloVe"
   ]
  },
  {
   "cell_type": "code",
   "execution_count": 73,
   "metadata": {},
   "outputs": [
    {
     "name": "stderr",
     "output_type": "stream",
     "text": [
      "Finished epoch 100 of 100; error is 2066223.5375"
     ]
    },
    {
     "name": "stdout",
     "output_type": "stream",
     "text": [
      "0.020208282263670295\n"
     ]
    },
    {
     "data": {
      "text/plain": [
       "0.020208282263670295"
      ]
     },
     "execution_count": 73,
     "metadata": {},
     "output_type": "execute_result"
    }
   ],
   "source": [
    "glove_model = TorchGloVe(max_iter=100, embed_dim=6000)\n",
    "glove_df = glove_model.fit(count_df)\n",
    "evaluate(glove_df)"
   ]
  },
  {
   "cell_type": "code",
   "execution_count": 74,
   "metadata": {},
   "outputs": [
    {
     "data": {
      "text/plain": [
       "superb        0.000000\n",
       "brilliant     0.157920\n",
       "impressive    0.166645\n",
       "classic       0.181595\n",
       "memorable     0.183558\n",
       "dtype: float64"
      ]
     },
     "execution_count": 74,
     "metadata": {},
     "output_type": "execute_result"
    }
   ],
   "source": [
    "# neighbors finally look reasonable, with embed_dim=6000\n",
    "vsm.neighbors('superb', glove_df).head()"
   ]
  },
  {
   "cell_type": "code",
   "execution_count": 76,
   "metadata": {},
   "outputs": [
    {
     "name": "stderr",
     "output_type": "stream",
     "text": [
      "Finished epoch 100 of 100; error is 1634338.84375"
     ]
    },
    {
     "name": "stdout",
     "output_type": "stream",
     "text": [
      "-0.04385115275952578\n"
     ]
    },
    {
     "data": {
      "text/plain": [
       "-0.04385115275952578"
      ]
     },
     "execution_count": 76,
     "metadata": {},
     "output_type": "execute_result"
    }
   ],
   "source": [
    "# sanity check if I can reproduce ref notebook results with yelp5\n",
    "# resulting error = 1634338.84375; similar to ref notebook\n",
    "# score is still pretty bad: -0.044\n",
    "# however, better score than giga20\n",
    "yelp5_df = pd.read_csv(os.path.join(VSM_HOME, 'yelp_window5-scaled.csv.gz'), index_col=0)\n",
    "gloveyelp5_model = TorchGloVe(max_iter=100)\n",
    "gloveyelp5_df = gloveyelp5_model.fit(yelp5_df)\n",
    "evaluate(gloveyelp5_df)"
   ]
  },
  {
   "cell_type": "markdown",
   "metadata": {},
   "source": [
    "Summary of results\n",
    "\n",
    "| vsm | dim | iters | error (rounded) | score (rounded) |\n",
    "| --- | --- | --- | --- | --- |\n",
    "| giga20 | 100 | 100 | 5350000 | -0.2 |\n",
    "| giga20 | 100 | 300 | 4850000 | -0.19 |\n",
    "| giga20 | 1000 | 100 | 4610000 | -0.175 | \n",
    "| giga20 | 6000 | 100 | 2070000 | 0.020 |\n",
    "| yelp5 | 100 | 100 | 1630000 | -0.044 |"
   ]
  },
  {
   "cell_type": "markdown",
   "metadata": {},
   "source": [
    "This concludes the experiments with our two methods, the PPMI-LSA-Retrofitting pipeline, and GloVe.\n",
    "\n",
    "The highest score obtained from these experiments was 0.381."
   ]
  },
  {
   "cell_type": "code",
   "execution_count": null,
   "metadata": {},
   "outputs": [],
   "source": []
  }
 ],
 "metadata": {
  "kernelspec": {
   "display_name": "Python 3",
   "language": "python",
   "name": "python3"
  },
  "language_info": {
   "codemirror_mode": {
    "name": "ipython",
    "version": 3
   },
   "file_extension": ".py",
   "mimetype": "text/x-python",
   "name": "python",
   "nbconvert_exporter": "python",
   "pygments_lexer": "ipython3",
   "version": "3.8.5"
  }
 },
 "nbformat": 4,
 "nbformat_minor": 4
}
