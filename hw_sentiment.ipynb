{
 "cells": [
  {
   "cell_type": "markdown",
   "metadata": {
    "id": "kWrEW82lWPVg"
   },
   "source": [
    "# Homework and bake-off: Sentiment analysis"
   ]
  },
  {
   "cell_type": "code",
   "execution_count": null,
   "metadata": {
    "id": "0rWrBR7bWPVu"
   },
   "outputs": [],
   "source": [
    "__author__ = \"Christopher Potts\"\n",
    "__version__ = \"CS224u, Stanford, Spring 2021\""
   ]
  },
  {
   "cell_type": "markdown",
   "metadata": {
    "id": "RhYeqejjWPVw"
   },
   "source": [
    "## Contents\n",
    "\n",
    "1. [Overview](#Overview)\n",
    "1. [Methodological note](#Methodological-note)\n",
    "1. [Set-up](#Set-up)\n",
    "1. [Train set](#Train-set)\n",
    "1. [Dev sets](#Dev-sets)\n",
    "1. [A softmax baseline](#A-softmax-baseline)\n",
    "1. [RNNClassifier wrapper](#RNNClassifier-wrapper)\n",
    "1. [Error analysis](#Error-analysis)\n",
    "1. [Homework questions](#Homework-questions)\n",
    "  1. [Token-level differences [1 point]](#Token-level-differences-[1-point])\n",
    "  1. [Training on some of the bakeoff data [1 point]](#Training-on-some-of-the-bakeoff-data-[1-point])\n",
    "  1. [A more powerful vector-averaging baseline [2 points]](#A-more-powerful-vector-averaging-baseline-[2-points])\n",
    "  1. [BERT encoding [2 points]](#BERT-encoding-[2-points])\n",
    "  1. [Your original system [3 points]](#Your-original-system-[3-points])\n",
    "1. [Bakeoff [1 point]](#Bakeoff-[1-point])"
   ]
  },
  {
   "cell_type": "markdown",
   "metadata": {
    "id": "a3cqbmbXWPVy"
   },
   "source": [
    "## Overview\n",
    "\n",
    "This homework and associated bakeoff are devoted to supervised sentiment analysis using the ternary (positive/negative/neutral) version of the Stanford Sentiment Treebank (SST-3) as well as a new dev/test dataset drawn from restaurant reviews. Our goal in introducing the new dataset is to push you to create a system that performs well in both the movie and restaurant domains.\n",
    "\n",
    "The homework questions ask you to implement some baseline system, and the bakeoff challenge is to define a system that does well at both the SST-3 test set and the new restaurant test set. Both are ternary tasks, and our central bakeoff score is the mean of the macro-FI scores for the two datasets. This assigns equal weight to all classes and datasets regardless of size.\n",
    "\n",
    "The SST-3 test set will be used for the bakeoff evaluation. This dataset is already publicly distributed, so we are counting on people not to cheat by developing their models on the test set. You must do all your development without using the test set at all, and then evaluate exactly once on the test set and turn in the results, with no further system tuning or additional runs. __Much of the scientific integrity of our field depends on people adhering to this honor code__. \n",
    "\n",
    "One of our goals for this homework and bakeoff is to encourage you to engage in __the basic development cycle for supervised models__, in which you\n",
    "\n",
    "1. Design a new system. We recommend starting with something simple.\n",
    "1. Use `sst.experiment` to evaluate your system, using random train/test splits initially.\n",
    "1. If you have time, compare your system with others using `sst.compare_models` or `utils.mcnemar`. (For discussion, see [this notebook section](sst_02_hand_built_features.ipynb#Statistical-comparison-of-classifier-models).)\n",
    "1. Return to step 1, or stop the cycle and conduct a more rigorous evaluation with hyperparameter tuning and assessment on the `dev` set.\n",
    "\n",
    "[Error analysis](#Error-analysis) is one of the most important methods for steadily improving a system, as it facilitates a kind of human-powered hill-climbing on your ultimate objective. Often, it takes a careful human analyst just a few examples to spot a major pattern that can lead to a beneficial change to the feature representations."
   ]
  },
  {
   "cell_type": "markdown",
   "metadata": {
    "id": "pNJaloSiWPVz"
   },
   "source": [
    "## Methodological note\n",
    "\n",
    "You don't have to use the experimental framework defined below (based on `sst`). The only constraint we need to place on your system is that it must have a `predict_one` method that can map directly from an example text to a prediction, and it must be able to make predictions without having any information beyond the text. (For example, it can't depend on knowing which task the text comes from.) See [the bakeoff section below](#Bakeoff-[1-point]) for examples of functions that conform to this specification."
   ]
  },
  {
   "cell_type": "markdown",
   "metadata": {
    "id": "LRYrvqetWPVz"
   },
   "source": [
    "## Set-up\n",
    "\n",
    "See [the first notebook in this unit](sst_01_overview.ipynb#Set-up) for set-up instructions."
   ]
  },
  {
   "cell_type": "code",
   "execution_count": null,
   "metadata": {
    "id": "9Hcsz5Z1WPV0"
   },
   "outputs": [],
   "source": [
    "from collections import Counter\n",
    "import numpy as np\n",
    "import os\n",
    "import pandas as pd\n",
    "from sklearn.linear_model import LogisticRegression\n",
    "import torch.nn as nn\n",
    "\n",
    "from torch_rnn_classifier import TorchRNNClassifier\n",
    "from torch_tree_nn import TorchTreeNN\n",
    "import sst\n",
    "import utils"
   ]
  },
  {
   "cell_type": "code",
   "execution_count": null,
   "metadata": {
    "id": "x8pnF2VIWPV0"
   },
   "outputs": [],
   "source": [
    "SST_HOME = os.path.join('data', 'sentiment')"
   ]
  },
  {
   "cell_type": "markdown",
   "metadata": {
    "id": "AWBuCEBKWPV1"
   },
   "source": [
    "## Train set"
   ]
  },
  {
   "cell_type": "markdown",
   "metadata": {
    "id": "C5wuyM7FWPV1"
   },
   "source": [
    "Our primary train set is the SST-3 train set:"
   ]
  },
  {
   "cell_type": "code",
   "execution_count": null,
   "metadata": {
    "id": "O-NlWeLGWPV2"
   },
   "outputs": [],
   "source": [
    "sst_train = sst.train_reader(SST_HOME)"
   ]
  },
  {
   "cell_type": "code",
   "execution_count": null,
   "metadata": {
    "id": "1QLcVfqeWPV3",
    "outputId": "4b9c8e70-c412-4906-a934-cf974a2fd816"
   },
   "outputs": [
    {
     "data": {
      "text/plain": [
       "8544"
      ]
     },
     "execution_count": 4,
     "metadata": {
      "tags": []
     },
     "output_type": "execute_result"
    }
   ],
   "source": [
    "sst_train.shape[0]"
   ]
  },
  {
   "cell_type": "markdown",
   "metadata": {
    "id": "3ezKaXvAWPV7"
   },
   "source": [
    "This is the train set we will use for all the regular homework questions. You are welcome to bring in new datasets for your original system. You are also free to add `include_subtrees=True`. This is very likely to lead to better systems, but it substantially increases the overall size of the dataset (from 8,544 examples to 159,274), which will in turn substantially increase the time it takes to run experiments.\n",
    "\n",
    "See [this notebook](sst_01_overview.ipynb) for additional details of this dataset."
   ]
  },
  {
   "cell_type": "markdown",
   "metadata": {
    "id": "90ECTrgIWPV8"
   },
   "source": [
    "## Dev sets"
   ]
  },
  {
   "cell_type": "markdown",
   "metadata": {
    "id": "RdNyOqReWPV9"
   },
   "source": [
    "We have two development set. SST3-dev consists of sentences from movie reviews, just like SST-3 train:"
   ]
  },
  {
   "cell_type": "code",
   "execution_count": null,
   "metadata": {
    "id": "PSqzhFRjWPV9"
   },
   "outputs": [],
   "source": [
    "sst_dev = sst.dev_reader(SST_HOME)"
   ]
  },
  {
   "cell_type": "markdown",
   "metadata": {
    "id": "5g3xAhZ8WPV-"
   },
   "source": [
    "Our new bakeoff dev set consists of sentences from restaurant reviews:"
   ]
  },
  {
   "cell_type": "code",
   "execution_count": null,
   "metadata": {
    "id": "Vk2S0iDuWPV-"
   },
   "outputs": [],
   "source": [
    "bakeoff_dev = sst.bakeoff_dev_reader(SST_HOME)"
   ]
  },
  {
   "cell_type": "code",
   "execution_count": null,
   "metadata": {
    "id": "L6YJl00pWPV-",
    "outputId": "0c208b32-56cb-48f4-b6b5-6fe007b8a6c8"
   },
   "outputs": [
    {
     "data": {
      "text/plain": [
       "[{'example_id': 57,\n",
       "  'sentence': 'I would recommend that you make reservations in advance.',\n",
       "  'label': 'neutral',\n",
       "  'is_subtree': 0},\n",
       " {'example_id': 590,\n",
       "  'sentence': 'We were welcomed warmly.',\n",
       "  'label': 'positive',\n",
       "  'is_subtree': 0},\n",
       " {'example_id': 1968,\n",
       "  'sentence': 'We have been to Oceanaire twice in the last 6 weeks.',\n",
       "  'label': 'neutral',\n",
       "  'is_subtree': 0}]"
      ]
     },
     "execution_count": 7,
     "metadata": {
      "tags": []
     },
     "output_type": "execute_result"
    }
   ],
   "source": [
    "bakeoff_dev.sample(3, random_state=1).to_dict(orient='records')"
   ]
  },
  {
   "cell_type": "markdown",
   "metadata": {
    "id": "3OtQ8Z5gWPV_"
   },
   "source": [
    "Here is the label distribution:"
   ]
  },
  {
   "cell_type": "code",
   "execution_count": null,
   "metadata": {
    "id": "Xd1jUIcMWPV_",
    "outputId": "1f45850f-f55f-4747-f870-3d599e77acdd"
   },
   "outputs": [
    {
     "data": {
      "text/plain": [
       "neutral     1019\n",
       "positive     777\n",
       "negative     565\n",
       "Name: label, dtype: int64"
      ]
     },
     "execution_count": 8,
     "metadata": {
      "tags": []
     },
     "output_type": "execute_result"
    }
   ],
   "source": [
    "bakeoff_dev.label.value_counts()"
   ]
  },
  {
   "cell_type": "markdown",
   "metadata": {
    "id": "1gn3OqruWPV_"
   },
   "source": [
    "The label distribution for the corresponding test set is similar to this."
   ]
  },
  {
   "cell_type": "markdown",
   "metadata": {
    "id": "_2vAKt9qWPWA"
   },
   "source": [
    "## A softmax baseline\n",
    "\n",
    "This example is here mainly as a reminder of how to use our experimental framework with linear models:"
   ]
  },
  {
   "cell_type": "code",
   "execution_count": null,
   "metadata": {
    "id": "Jf6SeqjgWPWA"
   },
   "outputs": [],
   "source": [
    "def unigrams_phi(text):\n",
    "    return Counter(text.split())"
   ]
  },
  {
   "cell_type": "markdown",
   "metadata": {
    "id": "BdiiamKwWPWA"
   },
   "source": [
    "Thin wrapper around `LogisticRegression` for the sake of `sst.experiment`:"
   ]
  },
  {
   "cell_type": "code",
   "execution_count": null,
   "metadata": {
    "id": "47rXRe3IWPWA"
   },
   "outputs": [],
   "source": [
    "def fit_softmax_classifier(X, y):\n",
    "    mod = LogisticRegression(\n",
    "        fit_intercept=True,\n",
    "        solver='liblinear',\n",
    "        multi_class='ovr')\n",
    "    mod.fit(X, y)\n",
    "    return mod"
   ]
  },
  {
   "cell_type": "markdown",
   "metadata": {
    "id": "CgkcZ5rPWPWB"
   },
   "source": [
    "The experimental run with some notes:"
   ]
  },
  {
   "cell_type": "code",
   "execution_count": null,
   "metadata": {
    "id": "juysTyr9WPWB",
    "outputId": "14b65cc1-fc01-4d6d-8dc1-bd203ee72dfe"
   },
   "outputs": [
    {
     "name": "stdout",
     "output_type": "stream",
     "text": [
      "Assessment dataset 1\n",
      "              precision    recall  f1-score   support\n",
      "\n",
      "    negative      0.628     0.689     0.657       428\n",
      "     neutral      0.343     0.153     0.211       229\n",
      "    positive      0.629     0.750     0.684       444\n",
      "\n",
      "    accuracy                          0.602      1101\n",
      "   macro avg      0.533     0.531     0.518      1101\n",
      "weighted avg      0.569     0.602     0.575      1101\n",
      "\n",
      "Assessment dataset 2\n",
      "              precision    recall  f1-score   support\n",
      "\n",
      "    negative      0.272     0.690     0.390       565\n",
      "     neutral      0.429     0.113     0.179      1019\n",
      "    positive      0.409     0.346     0.375       777\n",
      "\n",
      "    accuracy                          0.328      2361\n",
      "   macro avg      0.370     0.383     0.315      2361\n",
      "weighted avg      0.385     0.328     0.294      2361\n",
      "\n",
      "Mean of macro-F1 scores: 0.416\n"
     ]
    }
   ],
   "source": [
    "softmax_experiment = sst.experiment(\n",
    "    sst.train_reader(SST_HOME),   # Train on any data you like except SST-3 test!\n",
    "    unigrams_phi,                 # Free to write your own!\n",
    "    fit_softmax_classifier,       # Free to write your own!\n",
    "    assess_dataframes=[sst_dev, bakeoff_dev]) # Free to change this during development!"
   ]
  },
  {
   "cell_type": "markdown",
   "metadata": {
    "id": "_uNxik2oWPWB"
   },
   "source": [
    "`softmax_experiment` contains a lot of information that you can use for error analysis; see [this section below](#Error-analysis) for starter code."
   ]
  },
  {
   "cell_type": "markdown",
   "metadata": {
    "id": "mJgVG8bEWPWB"
   },
   "source": [
    "## RNNClassifier wrapper\n",
    "\n",
    "This section illustrates how to use `sst.experiment` with `TorchRNNClassifier`."
   ]
  },
  {
   "cell_type": "markdown",
   "metadata": {
    "id": "koOwljogWPWC"
   },
   "source": [
    "To featurize examples for an RNN, we can just get the words in order, letting the model take care of mapping them into an embedding space."
   ]
  },
  {
   "cell_type": "code",
   "execution_count": null,
   "metadata": {
    "id": "4llGbrT-WPWC"
   },
   "outputs": [],
   "source": [
    "def rnn_phi(text):\n",
    "    return text.split()"
   ]
  },
  {
   "cell_type": "markdown",
   "metadata": {
    "id": "hY7bh2_KWPWC"
   },
   "source": [
    "The model wrapper gets the vocabulary using `sst.get_vocab`. If you want to use pretrained word representations in here, then you can have `fit_rnn_classifier` build that space too; see [this notebook section for details](sst_03_neural_networks.ipynb#Pretrained-embeddings). See also [torch_model_base.py](torch_model_base.py) for details on the many optimization parameters that `TorchRNNClassifier` accepts."
   ]
  },
  {
   "cell_type": "code",
   "execution_count": null,
   "metadata": {
    "id": "3m1N0oMvWPWC"
   },
   "outputs": [],
   "source": [
    "def fit_rnn_classifier(X, y):\n",
    "    sst_glove_vocab = utils.get_vocab(X, mincount=2)\n",
    "    mod = TorchRNNClassifier(\n",
    "        sst_glove_vocab,\n",
    "        early_stopping=True)\n",
    "    mod.fit(X, y)\n",
    "    return mod"
   ]
  },
  {
   "cell_type": "code",
   "execution_count": null,
   "metadata": {
    "id": "3dnikoQUWPWD",
    "outputId": "ea72c564-5661-4fd7-bd6e-4f11497b02e2"
   },
   "outputs": [
    {
     "name": "stderr",
     "output_type": "stream",
     "text": [
      "Stopping after epoch 43. Validation score did not improve by tol=1e-05 for more than 10 epochs. Final error is 1.2270872965455055"
     ]
    },
    {
     "name": "stdout",
     "output_type": "stream",
     "text": [
      "Assessment dataset 1\n",
      "              precision    recall  f1-score   support\n",
      "\n",
      "    negative      0.577     0.678     0.623       428\n",
      "     neutral      0.276     0.205     0.236       229\n",
      "    positive      0.664     0.640     0.651       444\n",
      "\n",
      "    accuracy                          0.564      1101\n",
      "   macro avg      0.506     0.507     0.503      1101\n",
      "weighted avg      0.549     0.564     0.554      1101\n",
      "\n",
      "Assessment dataset 2\n",
      "              precision    recall  f1-score   support\n",
      "\n",
      "    negative      0.304     0.568     0.396       565\n",
      "     neutral      0.455     0.343     0.391      1019\n",
      "    positive      0.378     0.260     0.308       777\n",
      "\n",
      "    accuracy                          0.370      2361\n",
      "   macro avg      0.379     0.391     0.365      2361\n",
      "weighted avg      0.393     0.370     0.365      2361\n",
      "\n",
      "Mean of macro-F1 scores: 0.434\n"
     ]
    }
   ],
   "source": [
    "rnn_experiment = sst.experiment(\n",
    "    sst.train_reader(SST_HOME),\n",
    "    rnn_phi,\n",
    "    fit_rnn_classifier,\n",
    "    vectorize=False,  # For deep learning, use `vectorize=False`.\n",
    "    assess_dataframes=[sst_dev, bakeoff_dev])"
   ]
  },
  {
   "cell_type": "markdown",
   "metadata": {
    "id": "Ljufe7qJWPWD"
   },
   "source": [
    "## Error analysis\n",
    "\n",
    "This section begins to build an error-analysis framework using the dicts returned by `sst.experiment`. These have the following structure:\n",
    "\n",
    "```\n",
    "'model': trained model\n",
    "'phi': the feature function used\n",
    "'train_dataset':\n",
    "   'X': feature matrix\n",
    "   'y': list of labels\n",
    "   'vectorizer': DictVectorizer,\n",
    "   'raw_examples': list of raw inputs, before featurizing   \n",
    "'assess_datasets': list of datasets, each with the same structure as the value of 'train_dataset'\n",
    "'predictions': list of lists of predictions on the assessment datasets\n",
    "'metric': `score_func.__name__`, where `score_func` is an `sst.experiment` argument\n",
    "'score': the `score_func` score on the each of the assessment dataasets\n",
    "```\n",
    "The following function just finds mistakes, and returns a `pd.DataFrame` for easy subsequent processing:"
   ]
  },
  {
   "cell_type": "code",
   "execution_count": null,
   "metadata": {
    "id": "ZHGt0vQuWPWD"
   },
   "outputs": [],
   "source": [
    "def find_errors(experiment):\n",
    "    \"\"\"Find mistaken predictions.\n",
    "\n",
    "    Parameters\n",
    "    ----------\n",
    "    experiment : dict\n",
    "        As returned by `sst.experiment`.\n",
    "\n",
    "    Returns\n",
    "    -------\n",
    "    pd.DataFrame\n",
    "\n",
    "    \"\"\"\n",
    "    dfs = []\n",
    "    for i, dataset in enumerate(experiment['assess_datasets']):\n",
    "        df = pd.DataFrame({\n",
    "            'raw_examples': dataset['raw_examples'],\n",
    "            'predicted': experiment['predictions'][i],\n",
    "            'gold': dataset['y']})\n",
    "        df['correct'] = df['predicted'] == df['gold']\n",
    "        df['dataset'] = i\n",
    "        dfs.append(df)\n",
    "    return pd.concat(dfs)"
   ]
  },
  {
   "cell_type": "code",
   "execution_count": null,
   "metadata": {
    "id": "DfRADGk4WPWE"
   },
   "outputs": [],
   "source": [
    "softmax_analysis = find_errors(softmax_experiment)"
   ]
  },
  {
   "cell_type": "code",
   "execution_count": null,
   "metadata": {
    "id": "JNqOMFwEWPWI"
   },
   "outputs": [],
   "source": [
    "rnn_analysis = find_errors(rnn_experiment)"
   ]
  },
  {
   "cell_type": "markdown",
   "metadata": {
    "id": "D3ZQwnL_WPWI"
   },
   "source": [
    "Here we merge the sotmax and RNN experiments into a single DataFrame:"
   ]
  },
  {
   "cell_type": "code",
   "execution_count": null,
   "metadata": {
    "id": "zhRXnFilWPWI"
   },
   "outputs": [],
   "source": [
    "analysis = softmax_analysis.merge(\n",
    "    rnn_analysis, left_on='raw_examples', right_on='raw_examples')\n",
    "\n",
    "analysis = analysis.drop('gold_y', axis=1).rename(columns={'gold_x': 'gold'})"
   ]
  },
  {
   "cell_type": "markdown",
   "metadata": {
    "id": "xqbG4g1fWPWI"
   },
   "source": [
    "The following code collects a specific subset of examples; small modifications to its structure will give you different interesting subsets:"
   ]
  },
  {
   "cell_type": "code",
   "execution_count": null,
   "metadata": {
    "id": "XonN406FWPWJ"
   },
   "outputs": [],
   "source": [
    "# Examples where the softmax model is correct, the RNN is not,\n",
    "# and the gold label is 'positive'\n",
    "\n",
    "error_group = analysis[\n",
    "    (analysis['predicted_x'] == analysis['gold'])\n",
    "    &\n",
    "    (analysis['predicted_y'] != analysis['gold'])\n",
    "    &\n",
    "    (analysis['gold'] == 'positive')\n",
    "]"
   ]
  },
  {
   "cell_type": "code",
   "execution_count": null,
   "metadata": {
    "id": "RNiK3ya1WPWJ",
    "outputId": "2b1e9086-7bdd-4866-e6f1-8d9b84959ecd"
   },
   "outputs": [
    {
     "data": {
      "text/plain": [
       "221"
      ]
     },
     "execution_count": 41,
     "metadata": {
      "tags": []
     },
     "output_type": "execute_result"
    }
   ],
   "source": [
    "error_group.shape[0]"
   ]
  },
  {
   "cell_type": "code",
   "execution_count": null,
   "metadata": {
    "id": "xu-BbnQ2WPWJ",
    "outputId": "4095e6a8-b984-4593-8a3d-ac9c466d57b8"
   },
   "outputs": [
    {
     "name": "stdout",
     "output_type": "stream",
     "text": [
      "======================================================================\n",
      "Make sure you go to the outside observation decks after you eat.\n",
      "======================================================================\n",
      "There 's something auspicious , and daring , too , about the artistic instinct that pushes a majority-oriented director like Steven Spielberg to follow A.I. with this challenging report so liable to unnerve the majority .\n",
      "======================================================================\n",
      "Terrific gumbo.\n",
      "======================================================================\n",
      "We had a great time & Meal!!!\n",
      "======================================================================\n",
      "The wine choices are good though.\n"
     ]
    }
   ],
   "source": [
    "for ex in error_group['raw_examples'].sample(5, random_state=1):\n",
    "    print(\"=\"*70)\n",
    "    print(ex)"
   ]
  },
  {
   "cell_type": "markdown",
   "metadata": {
    "id": "TOquM__cWPWK"
   },
   "source": [
    "## Homework questions\n",
    "\n",
    "Please embed your homework responses in this notebook, and do not delete any cells from the notebook. (You are free to add as many cells as you like as part of your responses.)"
   ]
  },
  {
   "cell_type": "markdown",
   "metadata": {
    "id": "0uKvjZnRWPWK"
   },
   "source": [
    "### Token-level differences [1 point]"
   ]
  },
  {
   "cell_type": "markdown",
   "metadata": {
    "id": "oOD7uYNfWPWK"
   },
   "source": [
    "We can begin to get a sense for how our two dev sets differ by considering the most frequent tokens from each. This question asks you to begin such analysis.\n",
    "\n",
    "Your task: write a function `get_token_counts` that, given a `pd.DataFrame` in the format of our datasets, tokenizes the example sentences based on whitespace and creates a count distribution over all of the tokens. The function should return a `pd.Series` sorted by frequency; if you create a count dictionary `d`, then `pd.Series(d).sort_values(ascending=False)` will give you what you need."
   ]
  },
  {
   "cell_type": "code",
   "execution_count": null,
   "metadata": {
    "id": "EIFyDoruWPWK"
   },
   "outputs": [],
   "source": [
    "def get_token_counts(df):\n",
    "    d = {}\n",
    "    sentences = df.sentence.str.split()\n",
    "    for words in sentences:\n",
    "        for word in words:\n",
    "            if word in d:\n",
    "                d[word] += 1\n",
    "            else:\n",
    "                d[word] = 1\n",
    "    return pd.Series(d).sort_values(ascending=False)\n",
    "\n",
    "\n"
   ]
  },
  {
   "cell_type": "code",
   "execution_count": null,
   "metadata": {
    "id": "Mt5sSFZbWPWK"
   },
   "outputs": [],
   "source": [
    "def test_get_token_counts(func):\n",
    "    df = pd.DataFrame([\n",
    "        {'sentence': 'a a b'},\n",
    "        {'sentence': 'a b a'},\n",
    "        {'sentence': 'a a a b.'}])\n",
    "    result = func(df)\n",
    "    for token, expected in (('a', 7), ('b', 2), ('b.', 1)):\n",
    "        actual = result.loc[token]\n",
    "        assert actual == expected, \\\n",
    "            \"For token {}, expected {}; got {}\".format(\n",
    "            token, expected, actual)\n",
    "    print(\"test passed!\")"
   ]
  },
  {
   "cell_type": "code",
   "execution_count": null,
   "metadata": {
    "id": "F8BmtHgqWPWL",
    "outputId": "6be6da28-1b7d-403a-c960-6322bf924549"
   },
   "outputs": [
    {
     "name": "stdout",
     "output_type": "stream",
     "text": [
      "test passed!\n"
     ]
    }
   ],
   "source": [
    "if 'IS_GRADESCOPE_ENV' not in os.environ:\n",
    "    test_get_token_counts(get_token_counts)"
   ]
  },
  {
   "cell_type": "markdown",
   "metadata": {
    "id": "UGRakiPZWPWL"
   },
   "source": [
    "As you develop your original system, you might review these results. The two dev sets have different vocabularies and different low-level encoding details that are sure to impact model performance, especially when one considers that the train set is like `sst_dev` in all these respects. For additional discussion, see [this notebook section](sst_01_overview.ipynb#Tokenization)."
   ]
  },
  {
   "cell_type": "markdown",
   "metadata": {
    "id": "86n_nQlWWPWL"
   },
   "source": [
    "### Training on some of the bakeoff data [1 point]"
   ]
  },
  {
   "cell_type": "markdown",
   "metadata": {
    "id": "KZsuBvmKWPWM"
   },
   "source": [
    "We have so far presented the bakeoff dev set as purely for evaluation. Since the train set consists entirely of SST-3 data, this makes the bakeoff split especially challenging. We might be able to reduce the challenging by adding some of the bakeoff dev set to the train set, keeping some of it for evaluation. The current question asks to begin explore the effects of such training.\n",
    "\n",
    "Your task: write a function `run_mixed_training_experiment`. The function should:\n",
    "\n",
    "1. Take as inputs (a) a model training wrapper like `fit_softmax_classifier` and (b) an integer `bakeoff_train_size` specifying the number of examples from `bakeoff_dev` that should be included in the train set.\n",
    "1. Split `bakeoff_dev` so that the first `bakeoff_train_size` examples are in the train set and the rest are used for evaluation.\n",
    "1. Use `sst.experiment` with the user-supplied model training wrapper, `unigram_phi` as defined above, and a train set that consists of SST-3 train and the train portion of `bakeoff_dev` as defined in step 2. The value of `assess_dataframes` should be a list consisting of the SST-3 dev set and the evaluation portion of `bakeoff_dev` as defined in step 2.\n",
    "1. Return the return value of `sst.experiment`.\n",
    "\n",
    "The function `test_run_mixed_training_experiment` will help you iterate to the required design."
   ]
  },
  {
   "cell_type": "code",
   "execution_count": null,
   "metadata": {
    "id": "ZWVBQ-PMWPWM"
   },
   "outputs": [],
   "source": [
    "def run_mixed_training_experiment(wrapper_func, bakeoff_train_size):\n",
    "    # 2. split bakeoff_dev \n",
    "    bakeoff_dev_train = bakeoff_dev[:bakeoff_train_size]\n",
    "    bakeoff_dev_eval = bakeoff_dev[bakeoff_train_size:]\n",
    "    mixed_train = pd.concat([sst_train, bakeoff_dev_train])\n",
    "    # 3. call sst.experiment\n",
    "    return sst.experiment(\n",
    "        mixed_train,\n",
    "        unigrams_phi,\n",
    "        wrapper_func,\n",
    "        assess_dataframes=[sst_dev, bakeoff_dev_eval])"
   ]
  },
  {
   "cell_type": "code",
   "execution_count": null,
   "metadata": {
    "id": "npUWZtQRWPWM"
   },
   "outputs": [],
   "source": [
    "def test_run_mixed_training_experiment(func):\n",
    "    bakeoff_train_size = 1000\n",
    "    experiment = func(fit_softmax_classifier, bakeoff_train_size)\n",
    "\n",
    "    assess_size = len(experiment['assess_datasets'])\n",
    "    assert len(experiment['assess_datasets']) == 2, \\\n",
    "        (\"The evaluation should be done on two datasets: \"\n",
    "         \"SST3 and part of the bakeoff dev set. \"\n",
    "         \"You have {} datasets.\".format(assess_size))\n",
    "\n",
    "    bakeoff_test_size = bakeoff_dev.shape[0] - bakeoff_train_size\n",
    "    expected_eval_examples = bakeoff_test_size + sst_dev.shape[0]\n",
    "    eval_examples = sum(len(d['raw_examples']) for d in experiment['assess_datasets'])\n",
    "    assert expected_eval_examples == eval_examples, \\\n",
    "        \"Expected {} evaluation examples; got {}\".format(\n",
    "        expected_eval_examples, eval_examples)\n",
    "    print(\"test passed!\")"
   ]
  },
  {
   "cell_type": "code",
   "execution_count": null,
   "metadata": {
    "id": "SZ95RHT-WPWM",
    "outputId": "4ef0cb20-f014-4352-9ea9-25029ecebeb0"
   },
   "outputs": [
    {
     "name": "stdout",
     "output_type": "stream",
     "text": [
      "Assessment dataset 1\n",
      "              precision    recall  f1-score   support\n",
      "\n",
      "    negative      0.627     0.671     0.648       428\n",
      "     neutral      0.319     0.162     0.214       229\n",
      "    positive      0.638     0.757     0.692       444\n",
      "\n",
      "    accuracy                          0.599      1101\n",
      "   macro avg      0.528     0.530     0.518      1101\n",
      "weighted avg      0.567     0.599     0.576      1101\n",
      "\n",
      "Assessment dataset 2\n",
      "              precision    recall  f1-score   support\n",
      "\n",
      "    negative      0.471     0.412     0.440       320\n",
      "     neutral      0.588     0.590     0.589       612\n",
      "    positive      0.503     0.548     0.525       429\n",
      "\n",
      "    accuracy                          0.535      1361\n",
      "   macro avg      0.521     0.517     0.518      1361\n",
      "weighted avg      0.534     0.535     0.534      1361\n",
      "\n",
      "Mean of macro-F1 scores: 0.518\n",
      "test passed!\n"
     ]
    }
   ],
   "source": [
    "if 'IS_GRADESCOPE_ENV' not in os.environ:\n",
    "    test_run_mixed_training_experiment(run_mixed_training_experiment)"
   ]
  },
  {
   "cell_type": "markdown",
   "metadata": {
    "id": "eKQCzhjNWPWN"
   },
   "source": [
    "### A more powerful vector-averaging baseline [2 points]\n",
    "\n",
    "In [Distributed representations as features](sst_03_neural_networks.ipynb#Distributed-representations-as-features), we looked at a baseline for the ternary SST-3 problem in which each example is modeled as the mean of its GloVe representations. A `LogisticRegression` model was used for prediction. A neural network might do better with these representations, since there might be complex relationships between the input feature dimensions that a linear classifier can't learn. To address this question, we want to get set up to run the experiment with a shallow neural classifier. \n",
    "\n",
    "Your task: write and submit a model wrapper function around `TorchShallowNeuralClassifier`. This function should implement hyperparameter search according to this specification:\n",
    "\n",
    "* Set `early_stopping=True` for all experiments.\n",
    "* Using 3-fold cross-validation, exhaustively explore this set of hyperparameter combinations:\n",
    "  * The hidden dimensionality at 50, 100, and 200.\n",
    "  * The hidden activation function as `nn.Tanh()` and `nn.ReLU()`.\n",
    "* For all other parameters to `TorchShallowNeuralClassifier`, use the defaults.\n",
    "\n",
    "See [this notebook section](sst_02_hand_built_features.ipynb#Hyperparameter-search) for examples. You are not required to run a full evaluation with this function using `sst.experiment`, but we assume you will want to.\n",
    "\n",
    "We're not evaluating the quality of your model. (We've specified the protocols completely, but there will still be variation in the results.) However, the primary goal of this question is to get you thinking more about this strong baseline feature representation scheme for SST-3, so we're sort of hoping you feel compelled to try out variations on your own."
   ]
  },
  {
   "cell_type": "code",
   "execution_count": null,
   "metadata": {
    "id": "xK6sVNn0WPWN"
   },
   "outputs": [],
   "source": [
    "from torch_shallow_neural_classifier import TorchShallowNeuralClassifier\n",
    "\n",
    "def fit_shallow_neural_classifier_with_hyperparameter_search(X, y):\n",
    "    basemod = TorchShallowNeuralClassifier(\n",
    "        early_stopping=True)      \n",
    "    param_grid = {\n",
    "        'hidden_dim': [50, 100, 200],\n",
    "        'hidden_activation': [nn.Tanh(), nn.ReLU()]}\n",
    "    cv = 3\n",
    "    bestmod = utils.fit_classifier_with_hyperparameter_search(\n",
    "        X, y, basemod, cv, param_grid)\n",
    "    return bestmod"
   ]
  },
  {
   "cell_type": "code",
   "execution_count": null,
   "metadata": {
    "id": "Jb4WBYoIWPWO"
   },
   "outputs": [],
   "source": [
    "# helper functions to load glove data\n",
    "# GLOVE_HOME = os.path.join('data', 'glove.6B')\n",
    "# glove_lookup = utils.glove2dict(os.path.join(GLOVE_HOME, 'glove.6B.300d.txt'))\n",
    "\n",
    "# def vsm_phi(text, lookup, np_func=np.mean):\n",
    "#     allvecs = np.array([lookup[w] for w in text.split() if w in lookup])\n",
    "#     if len(allvecs) == 0:\n",
    "#         dim = len(next(iter(lookup.values())))\n",
    "#         feats = np.zeros(dim)\n",
    "#     else:\n",
    "#         feats = np_func(allvecs, axis=0)\n",
    "#     return feats\n",
    "\n",
    "# def glove_phi(text, np_func=np.mean):\n",
    "#     return vsm_phi(text, glove_lookup, np_func=np_func)"
   ]
  },
  {
   "cell_type": "code",
   "execution_count": null,
   "metadata": {
    "id": "D2794YkQWPWO",
    "outputId": "bf5a954d-ff5b-44a0-965f-6792f3abaf99"
   },
   "outputs": [
    {
     "name": "stderr",
     "output_type": "stream",
     "text": [
      "Stopping after epoch 29. Validation score did not improve by tol=1e-05 for more than 10 epochs. Final error is 6.1009162068367635"
     ]
    },
    {
     "name": "stdout",
     "output_type": "stream",
     "text": [
      "Best params: {'hidden_activation': ReLU(), 'hidden_dim': 200}\n",
      "Best score: 0.513\n",
      "Assessment dataset 1\n",
      "              precision    recall  f1-score   support\n",
      "\n",
      "    negative      0.616     0.699     0.655       428\n",
      "     neutral      0.385     0.044     0.078       229\n",
      "    positive      0.607     0.806     0.692       444\n",
      "\n",
      "    accuracy                          0.606      1101\n",
      "   macro avg      0.536     0.516     0.475      1101\n",
      "weighted avg      0.564     0.606     0.550      1101\n",
      "\n",
      "Assessment dataset 2\n",
      "              precision    recall  f1-score   support\n",
      "\n",
      "    negative      0.316     0.758     0.446       565\n",
      "     neutral      0.614     0.026     0.051      1019\n",
      "    positive      0.453     0.562     0.502       777\n",
      "\n",
      "    accuracy                          0.378      2361\n",
      "   macro avg      0.461     0.449     0.333      2361\n",
      "weighted avg      0.490     0.378     0.294      2361\n",
      "\n",
      "Mean of macro-F1 scores: 0.404\n"
     ]
    }
   ],
   "source": [
    "# try running it to see if it makes sense\n",
    "# if 'IS_GRADESCOPE_ENV' not in os.environ:\n",
    "#     shallow_glove_experiment = sst.experiment(\n",
    "#         sst.train_reader(SST_HOME),\n",
    "#         glove_phi,\n",
    "#         fit_shallow_neural_classifier_with_hyperparameter_search,\n",
    "#         assess_dataframes=[sst_dev, bakeoff_dev], \n",
    "#         vectorize=False) # Tell `experiment` that we already have our feature vectors.\n",
    "    \n",
    "# Results: very similar to results in sst_03 notebook for sst_dev set."
   ]
  },
  {
   "cell_type": "markdown",
   "metadata": {
    "id": "yBiGTzXIWPWO"
   },
   "source": [
    "### BERT encoding [2 points]"
   ]
  },
  {
   "cell_type": "markdown",
   "metadata": {
    "id": "JJoYzZx2WPWP"
   },
   "source": [
    "We might hypothesize that encoding our examples with BERT will yield improvements over the GloVe averaging method explored in the previous question, since BERT implements a much more complex and data-driven function for this kind of combination. This question asks you to begin exploring this general hypothesis.\n",
    "\n",
    "Your task: write a function `hf_cls_phi` that uses Hugging Face functionality to encode individual examples with BERT and returns the final output representation above the [CLS] token.\n",
    "\n",
    "You are not required to evaluate this feature function, but it is easy to do so with `sst.experiment` and `vectorize=False` (since your feature function directly encodes every example as a vector). Your code should also be a natural basis for even more powerful approaches – for example, it might be even better to pool all the output states rather than using just the first output state. Another option is [fine-tuning](finetuning.ipynb)."
   ]
  },
  {
   "cell_type": "code",
   "execution_count": null,
   "metadata": {
    "id": "2FUVEJP1WPWP"
   },
   "outputs": [],
   "source": [
    "from transformers import BertModel, BertTokenizer\n",
    "import vsm\n",
    "\n",
    "# Instantiate a Bert model and tokenizer based on `bert_weights_name`:\n",
    "bert_weights_name = 'bert-base-uncased'\n",
    "bert_model = BertModel.from_pretrained(bert_weights_name)\n",
    "bert_tokenizer = BertTokenizer.from_pretrained(bert_weights_name)\n",
    "\n",
    "def hf_cls_phi(text):\n",
    "    # Get the ids. `vsm.hf_encode` will help; be sure to\n",
    "    # set `add_special_tokens=True`.\n",
    "    ids = vsm.hf_encode(text, bert_tokenizer, add_special_tokens=True)\n",
    "\n",
    "    # Get the BERT representations. `vsm.hf_represent` will help.\n",
    "    reps = vsm.hf_represent(ids, bert_model) # default layer = return final outputs\n",
    "    # reps shape: (n_examples, n_tokens, n_dimensions)\n",
    "\n",
    "    # Index into `reps` to get the representation above [CLS].\n",
    "    # The shape of `reps` should be (1, n, 768), where n is the\n",
    "    # number of tokens. You need the 0th element of the 2nd dim:\n",
    "    cls_rep = reps[0][0]\n",
    "\n",
    "    # These conversions should ensure that you can work with the\n",
    "    # representations flexibly. Feel free to change the variable\n",
    "    # name.\n",
    "    return cls_rep.cpu().numpy()"
   ]
  },
  {
   "cell_type": "code",
   "execution_count": null,
   "metadata": {
    "id": "4p7Md7IlWPWP"
   },
   "outputs": [],
   "source": [
    "def test_hf_cls_phi(func):\n",
    "    rep = func(\"Just testing!\")\n",
    "\n",
    "    expected_shape = (768,)\n",
    "    result_shape = rep.shape\n",
    "    assert rep.shape == (768,), \\\n",
    "        \"Expected shape {}; got {}\".format(\n",
    "        expected_shape, result_shape)\n",
    "\n",
    "    # String conversion to avoid precision errors:\n",
    "    expected_first_val = str(0.1709)\n",
    "    result_first_val = \"{0:.04f}\".format(rep[0])\n",
    "\n",
    "    assert expected_first_val == result_first_val, \\\n",
    "        (\"Unexpected representation values. Expected the \"\n",
    "        \"first value to be {}; got {}\".format(\n",
    "            expected_first_val, result_first_val))\n",
    "    print(\"test passed!\")"
   ]
  },
  {
   "cell_type": "code",
   "execution_count": null,
   "metadata": {
    "id": "sYxaXkuQWPWQ",
    "outputId": "80d0b9b4-88d6-401d-92e1-2a8a6a2eefea"
   },
   "outputs": [
    {
     "name": "stdout",
     "output_type": "stream",
     "text": [
      "test passed!\n"
     ]
    }
   ],
   "source": [
    "if 'IS_GRADESCOPE_ENV' not in os.environ:\n",
    "    test_hf_cls_phi(hf_cls_phi)"
   ]
  },
  {
   "cell_type": "code",
   "execution_count": null,
   "metadata": {
    "id": "WaawK--gWPWQ",
    "outputId": "8163a416-c83a-4060-bd60-ca72aae9b35b"
   },
   "outputs": [
    {
     "name": "stderr",
     "output_type": "stream",
     "text": [
      "Stopping after epoch 21. Validation score did not improve by tol=1e-05 for more than 10 epochs. Final error is 5.1615851521492824"
     ]
    },
    {
     "name": "stdout",
     "output_type": "stream",
     "text": [
      "Best params: {'hidden_activation': Tanh(), 'hidden_dim': 100}\n",
      "Best score: 0.605\n",
      "Assessment dataset 1\n",
      "              precision    recall  f1-score   support\n",
      "\n",
      "    negative      0.712     0.792     0.750       428\n",
      "     neutral      0.397     0.127     0.192       229\n",
      "    positive      0.696     0.865     0.771       444\n",
      "\n",
      "    accuracy                          0.683      1101\n",
      "   macro avg      0.602     0.595     0.571      1101\n",
      "weighted avg      0.640     0.683     0.642      1101\n",
      "\n",
      "Assessment dataset 2\n",
      "              precision    recall  f1-score   support\n",
      "\n",
      "    negative      0.422     0.777     0.547       565\n",
      "     neutral      0.637     0.242     0.351      1019\n",
      "    positive      0.569     0.682     0.620       777\n",
      "\n",
      "    accuracy                          0.515      2361\n",
      "   macro avg      0.542     0.567     0.506      2361\n",
      "weighted avg      0.563     0.515     0.486      2361\n",
      "\n",
      "Mean of macro-F1 scores: 0.539\n"
     ]
    }
   ],
   "source": [
    "# try running it to see if it makes sense\n",
    "# if 'IS_GRADESCOPE_ENV' not in os.environ:\n",
    "#     shallow_bert_experiment = sst.experiment(\n",
    "#         sst.train_reader(SST_HOME),\n",
    "#         hf_cls_phi,\n",
    "#         fit_shallow_neural_classifier_with_hyperparameter_search,\n",
    "#         assess_dataframes=[sst_dev],\n",
    "#         vectorize=False) # Pass in the BERT reps directly!\n",
    "\n",
    "# Results: did pretty good! "
   ]
  },
  {
   "cell_type": "markdown",
   "metadata": {
    "id": "edA6dakrWPWQ"
   },
   "source": [
    "Note: encoding all of SST-3 train (no subtrees) takes about 11 minutes on my 2015 iMac, CPU only (32GB)."
   ]
  },
  {
   "cell_type": "markdown",
   "metadata": {
    "id": "ijHLqUeSWPWR"
   },
   "source": [
    "### Your original system [3 points]\n",
    "\n",
    "Your task is to develop an original model for the SST-3 problem and our new bakeoff dataset. There are many options. If you spend more than a few hours on this homework problem, you should consider letting it grow into your final project! Here are some relatively manageable ideas that you might try:\n",
    "\n",
    "1. We didn't systematically evaluate the `bidirectional` option to the `TorchRNNClassifier`. Similarly, that model could be tweaked to allow multiple LSTM layers (at present there is only one), and you could try adding layers to the classifier portion of the model as well.\n",
    "\n",
    "1. We've already glimpsed the power of rich initial word representations, and later in the course we'll see that smart initialization usually leads to a performance gain in NLP, so you could perhaps achieve a winning entry with a simple model that starts in a great place.\n",
    "\n",
    "1. Our [practical introduction to contextual word representations](finetuning.ipynb) covers pretrained representations and interfaces that are likely to boost the performance of any system.\n",
    "\n",
    "We want to emphasize that this needs to be an __original__ system. It doesn't suffice to download code from the Web, retrain, and submit. You can build on others' code, but you have to do something new and meaningful with it. See the course website for additional guidance on how original systems will be evaluated.\n",
    "\n",
    "In the cell below, please provide a brief technical description of your original system, so that the teaching team can gain an understanding of what it does. This will help us to understand your code and analyze all the submissions to identify patterns and strategies.  We also ask that you report the best score your system got during development (your best average of macro-F1 scores), just to help us understand how systems performed overall."
   ]
  },
  {
   "cell_type": "code",
   "execution_count": null,
   "metadata": {
    "id": "LMb3ltpoWPWR"
   },
   "outputs": [],
   "source": [
    "# PLEASE MAKE SURE TO INCLUDE THE FOLLOWING BETWEEN THE START AND STOP COMMENTS:\n",
    "#   1) Textual description of your system.\n",
    "#   2) The code for your original system.\n",
    "#   3) The score achieved by your system in place of MY_NUMBER.\n",
    "#        With no other changes to that line.\n",
    "#        You should report your score as a decimal value <=1.0\n",
    "# PLEASE MAKE SURE NOT TO DELETE OR EDIT THE START AND STOP COMMENTS\n",
    "\n",
    "# NOTE: MODULES, CODE AND DATASETS REQUIRED FOR YOUR ORIGINAL SYSTEM\n",
    "# SHOULD BE ADDED BELOW THE 'IS_GRADESCOPE_ENV' CHECK CONDITION. DOING\n",
    "# SO ABOVE THE CHECK MAY CAUSE THE AUTOGRADER TO FAIL.\n",
    "\n",
    "# START COMMENT: Enter your system description in this cell.\n",
    "# Textual description: please see hw2_colab_final.ipynb.\n",
    "# My peak score was: 0.648\n",
    "if 'IS_GRADESCOPE_ENV' not in os.environ:\n",
    "    import os\n",
    "    from sklearn.metrics import classification_report\n",
    "    import torch\n",
    "    import torch.nn as nn\n",
    "    from transformers import BertModel, BertTokenizer\n",
    "\n",
    "    from torch_shallow_neural_classifier import TorchShallowNeuralClassifier\n",
    "    from torch_rnn_classifier import TorchRNNModel\n",
    "    from torch_rnn_classifier import TorchRNNClassifier\n",
    "    from torch_rnn_classifier import TorchRNNClassifierModel\n",
    "    from torch_rnn_classifier import TorchRNNClassifier\n",
    "    import sst\n",
    "    import utils\n",
    "\n",
    "    import pandas as pd\n",
    "\n",
    "    utils.fix_random_seeds()\n",
    "    SST_HOME = os.path.join(sys.path[-1], 'data/sentiment')\n",
    "\n",
    "    bakeoff_dev = sst.bakeoff_dev_reader(SST_HOME)\n",
    "    sst_dev = sst.dev_reader(SST_HOME)\n",
    "    sst_train = sst.train_reader(SST_HOME)\n",
    "\n",
    "    # load DynaSent dataset\n",
    "    # want format:\n",
    "    # (example_id, sentence, label, is_subtree)\n",
    "    # use text_id for example_id\n",
    "    # sentence = sentence\n",
    "    # gold_label -> label\n",
    "    # is_subtree = 0\n",
    "    import json\n",
    "\n",
    "    def load_dataset(*src_filenames, labels=None):\n",
    "        data = []\n",
    "        for filename in src_filenames:\n",
    "            with open(filename) as f:\n",
    "                for line in f:\n",
    "                    d = json.loads(line)\n",
    "                    if labels is None or d['gold_label'] in labels:\n",
    "                        data.append(d)\n",
    "        return data\n",
    "\n",
    "    dynasent_folder = os.path.join(sys.path[-1], 'data/dynasent-v1.1')\n",
    "    r1_train_filename = os.path.join(dynasent_folder, 'dynasent-v1.1-round01-yelp-train.jsonl')\n",
    "\n",
    "    # get a subsample of each label\n",
    "    r1_train_neg = load_dataset(r1_train_filename, labels=('negative', 'negative'))[:2000]\n",
    "    r1_train_neu = load_dataset(r1_train_filename, labels=('neutral', 'neutral'))[:2000]\n",
    "    r1_train_pos = load_dataset(r1_train_filename, labels=('positive', 'positive'))[:4000]\n",
    "\n",
    "    pairs_neg = zip((d['text_id'], d['sentence'], d['gold_label'], 0) for d in r1_train_neg) \n",
    "    pairs_list_neg = list(pairs_neg)\n",
    "    df_source_neg = [pair[0] for pair in pairs_list_neg]\n",
    "    df_neg = pd.DataFrame(df_source_neg, columns =['example_id', 'sentence', 'label', 'is_subtree'])\n",
    "\n",
    "    pairs_neu = zip((d['text_id'], d['sentence'], d['gold_label'], 0) for d in r1_train_neu) \n",
    "    pairs_list_neu = list(pairs_neu)\n",
    "    df_source_neu = [pair[0] for pair in pairs_list_neu]\n",
    "    df_neu = pd.DataFrame(df_source_neu, columns =['example_id', 'sentence', 'label', 'is_subtree'])\n",
    "\n",
    "    pairs_pos = zip((d['text_id'], d['sentence'], d['gold_label'], 0) for d in r1_train_pos) \n",
    "    pairs_list_pos = list(pairs_pos)\n",
    "    df_source_pos = [pair[0] for pair in pairs_list_pos]\n",
    "    df_pos = pd.DataFrame(df_source_pos, columns =['example_id', 'sentence', 'label', 'is_subtree'])\n",
    "\n",
    "    # concatenate all labels\n",
    "    df_whole = pd.concat([df_neg, df_neu, df_pos])\n",
    "    print(len(df_whole))\n",
    "\n",
    "    # try using subtrees SST neutral examples --\n",
    "    # SST-train contains 8544 examples; (neg, neutral, pos)=(3310, 1624, 3610)\n",
    "    subtree_dedup_train_df = sst.train_reader(SST_HOME, include_subtrees=True, dedup=True)\n",
    "\n",
    "    # use 3000 additional neutral examples.\n",
    "    subtree_neutrals = subtree_dedup_train_df.loc[subtree_dedup_train_df['label'] == 'neutral'][:3000]\n",
    "    sst_boosted_ds_train = pd.concat([sst_train, subtree_neutrals, df_whole])\n",
    "\n",
    "    class HfBertClassifierModel(nn.Module):\n",
    "        def __init__(self, n_classes, weights_name='bert-base-cased'):\n",
    "            super().__init__()\n",
    "            self.n_classes = n_classes\n",
    "            self.weights_name = weights_name\n",
    "            self.bert = BertModel.from_pretrained(self.weights_name)\n",
    "            self.bert.train()\n",
    "            self.hidden_dim = self.bert.embeddings.word_embeddings.embedding_dim\n",
    "            # The only new parameters -- the classifier:\n",
    "            self.classifier_layer = nn.Linear(\n",
    "                self.hidden_dim, self.n_classes)\n",
    "\n",
    "        def forward(self, indices, mask):\n",
    "            reps = self.bert(\n",
    "                indices, attention_mask=mask)\n",
    "            return self.classifier_layer(reps.pooler_output)\n",
    "    \n",
    "\n",
    "    class HfBertClassifier(TorchShallowNeuralClassifier):\n",
    "        def __init__(self, weights_name, *args, **kwargs):\n",
    "            self.weights_name = weights_name\n",
    "            self.tokenizer = BertTokenizer.from_pretrained(self.weights_name)\n",
    "            super().__init__(*args, **kwargs)\n",
    "            self.params += ['weights_name']\n",
    "\n",
    "        def build_graph(self):\n",
    "            return HfBertClassifierModel(self.n_classes_, self.weights_name)\n",
    "\n",
    "        def build_dataset(self, X, y=None):\n",
    "            data = self.tokenizer.batch_encode_plus(\n",
    "                X,\n",
    "                max_length=None,\n",
    "                add_special_tokens=True,\n",
    "                padding='longest',\n",
    "                return_attention_mask=True)\n",
    "            indices = torch.tensor(data['input_ids'])\n",
    "            mask = torch.tensor(data['attention_mask'])\n",
    "            if y is None:\n",
    "                dataset = torch.utils.data.TensorDataset(indices, mask)\n",
    "            else:\n",
    "                self.classes_ = sorted(set(y))\n",
    "                self.n_classes_ = len(self.classes_)\n",
    "                class2index = dict(zip(self.classes_, range(self.n_classes_)))\n",
    "                y = [class2index[label] for label in y]\n",
    "                y = torch.tensor(y)\n",
    "                dataset = torch.utils.data.TensorDataset(indices, mask, y)\n",
    "            return dataset\n",
    "\n",
    "    def bert_fine_tune_phi(text):\n",
    "        return text\n",
    "\n",
    "    # This was first written as a version containing hyperparameter search\n",
    "    # and modified to use the final best version from the search\n",
    "    def fit_hf_bert_classifier(X, y):\n",
    "        mod = HfBertClassifier(\n",
    "            gradient_accumulation_steps=10,\n",
    "            eta=0.005,\n",
    "            hidden_dim=400,\n",
    "            weights_name='bert-base-cased', # also try bert-based-uncased\n",
    "            batch_size=8,  # Small batches to avoid memory overload.\n",
    "            max_iter=1,  # We'll search based on 1 iteration for efficiency.\n",
    "            n_iter_no_change=5,   # Early-stopping params are for the\n",
    "            early_stopping=True)  # final evaluation.\n",
    "\n",
    "        mod.fit(X, y)\n",
    "\n",
    "        return mod\n",
    "\n",
    "    sst_boosted_ds_train = pd.concat([sst_train, subtree_neutrals, df_whole]) # examples are NOT shuffled\n",
    "\n",
    "    # took around an hour maybe to run\n",
    "    # without gpu: still has not completed after 5h\n",
    "    bert_classifier_xval = sst.experiment(\n",
    "        sst_boosted_ds_train,\n",
    "        bert_fine_tune_phi,\n",
    "        fit_hf_bert_classifier,\n",
    "        assess_dataframes=[sst_dev, bakeoff_dev],\n",
    "        vectorize=False)  # Pass in the BERT hidden state directly!\n",
    "\n",
    "    optimized_bert_classifier = bert_classifier_xval['model']\n",
    "\n",
    "    # Remove the rest of the experiment results to clear out some memory\n",
    "    del bert_classifier_xval\n",
    "\n",
    "    def fit_optimized_hf_bert_classifier(X, y):\n",
    "        optimized_bert_classifier.max_iter = 1000\n",
    "        optimized_bert_classifier.fit(X, y)\n",
    "        return optimized_bert_classifier\n",
    "\n",
    "    # took 3.5h to run....\n",
    "    hfbert_experiment = sst.experiment(\n",
    "        sst_boosted_ds_train, \n",
    "        bert_fine_tune_phi,\n",
    "        fit_optimized_hf_bert_classifier,\n",
    "        assess_dataframes=[sst_dev, bakeoff_dev],\n",
    "        vectorize=False)  # Pass in the BERT hidden state directly!\n",
    "\n",
    "    def predict_one_rnn(text):\n",
    "        # List of tokenized examples:\n",
    "        X = [hfbert_experiment['phi'](text)]\n",
    "        # Standard `predict` step on a list of lists of str:\n",
    "        preds = hfbert_experiment['model'].predict(X)\n",
    "        # Be sure to return the only member of the predictions,\n",
    "        # rather than the singleton list:\n",
    "        return preds[0]\n",
    "\n",
    "\n",
    "# STOP COMMENT: Please do not remove this comment."
   ]
  },
  {
   "cell_type": "markdown",
   "metadata": {
    "id": "zAE7Y80EWPWT"
   },
   "source": [
    "## Bakeoff [1 point]\n",
    "\n",
    "As we said above, the bakeoff evaluation data is the official SST test-set release and a new test set derived from the same sources and labeling methods as for `bakeoff_dev`.\n",
    "\n",
    "For this bakeoff, you'll evaluate your original system from the above homework problem on these test sets. Our metric will be the mean of the macro-F1 values, which weights both datasets equally despite their differing sizes.\n",
    "\n",
    "The central requirement for your system is that you have define a `predict_one` method for it that maps a text (str) directly to a label prediction – one of 'positive', 'negative', 'neutral'. If you used `sst.experiment` with `vectorize=True`, then the following function (for `softmax_experiment`) will be easy to adapt – you probably just need to change the variable `softmax_experiment` to the variable for your experiment output."
   ]
  },
  {
   "cell_type": "code",
   "execution_count": null,
   "metadata": {
    "id": "dCTH9eQwWPWT"
   },
   "outputs": [],
   "source": [
    "# def predict_one_softmax(text):\n",
    "#     # Singleton list of feature dicts:\n",
    "#     feats = [softmax_experiment['phi'](text)]\n",
    "#     # Vectorize to get a feature matrix:\n",
    "#     X = softmax_experiment['train_dataset']['vectorizer'].transform(feats)\n",
    "#     # Standard sklearn `predict` step:\n",
    "#     preds = softmax_experiment['model'].predict(X)\n",
    "#     # Be sure to return the only member of the predictions,\n",
    "#     # rather than the singleton list:\n",
    "#     return preds[0]"
   ]
  },
  {
   "cell_type": "markdown",
   "metadata": {
    "id": "rM313x0YWPWU"
   },
   "source": [
    "If you used an RNN like the one we demoed above, then featurization is a bit more straightforward:"
   ]
  },
  {
   "cell_type": "code",
   "execution_count": null,
   "metadata": {
    "id": "iQp9im9SWPWU"
   },
   "outputs": [],
   "source": [
    "# def predict_one_rnn(text):\n",
    "#     # Singleton list of feature dicts:\n",
    "#     X = [rnn_experiment['phi'](text)]\n",
    "#     # Standard `predict` step on a list of lists of str:\n",
    "#     preds = rnn_experiment['model'].predict(X)\n",
    "#     # Be sure to return the only member of the predictions,\n",
    "#     # rather than the singleton list:\n",
    "#     return preds[0]"
   ]
  },
  {
   "cell_type": "markdown",
   "metadata": {
    "id": "Jqgq_qESWPWU"
   },
   "source": [
    "The following function is used to create the bakeoff submission file. Its arguments are your `predict_one` function and an output filename (str)."
   ]
  },
  {
   "cell_type": "code",
   "execution_count": null,
   "metadata": {
    "id": "b0EyXQcbWPWU"
   },
   "outputs": [],
   "source": [
    "# def create_bakeoff_submission(\n",
    "#         predict_one_func,\n",
    "#         output_filename='cs224u-sentiment-bakeoff-entry.csv'):\n",
    "\n",
    "#     bakeoff_test = sst.bakeoff_test_reader(SST_HOME)\n",
    "#     sst_test = sst.test_reader(SST_HOME)\n",
    "#     bakeoff_test['dataset'] = 'bakeoff'\n",
    "#     sst_test['dataset'] = 'sst3'\n",
    "#     df = pd.concat((bakeoff_test, sst_test))\n",
    "\n",
    "#     df['prediction'] = df['sentence'].apply(predict_one_func)\n",
    "\n",
    "#     df.to_csv(output_filename, index=None)"
   ]
  },
  {
   "cell_type": "markdown",
   "metadata": {
    "id": "290wax_LWPWV"
   },
   "source": [
    "Thus, for example, the following will create a bake-off entry based on `predict_one_softmax`:"
   ]
  },
  {
   "cell_type": "code",
   "execution_count": null,
   "metadata": {
    "id": "Z-S646hxWPWV"
   },
   "outputs": [],
   "source": [
    "# create_bakeoff_submission(predict_one_softmax)"
   ]
  },
  {
   "cell_type": "markdown",
   "metadata": {
    "id": "3hDUf9MgWPWW"
   },
   "source": [
    "This creates a file `cs224u-sentiment-bakeoff-entry.csv` in the current directory. That file should be uploaded as-is. Please do not change its name.\n",
    "\n",
    "Only one upload per team is permitted, and you should do no tuning of your system based on what you see in our bakeoff prediction file – you should not study that file in anyway, beyond perhaps checking that it contains what you expected it to contain. The upload function will do some additional checking to ensure that your file is well-formed.\n",
    "\n",
    "People who enter will receive the additional homework point, and people whose systems achieve the top score will receive an additional 0.5 points. We will test the top-performing systems ourselves, and only systems for which we can reproduce the reported results will win the extra 0.5 points.\n",
    "\n",
    "Late entries will be accepted, but they cannot earn the extra 0.5 points."
   ]
  }
 ],
 "metadata": {
  "colab": {
   "collapsed_sections": [
    "0uKvjZnRWPWK"
   ],
   "name": "hw_sentiment.ipynb",
   "provenance": []
  },
  "kernelspec": {
   "display_name": "Python 3",
   "language": "python",
   "name": "python3"
  },
  "language_info": {
   "codemirror_mode": {
    "name": "ipython",
    "version": 3
   },
   "file_extension": ".py",
   "mimetype": "text/x-python",
   "name": "python",
   "nbconvert_exporter": "python",
   "pygments_lexer": "ipython3",
   "version": "3.8.5"
  }
 },
 "nbformat": 4,
 "nbformat_minor": 1
}
